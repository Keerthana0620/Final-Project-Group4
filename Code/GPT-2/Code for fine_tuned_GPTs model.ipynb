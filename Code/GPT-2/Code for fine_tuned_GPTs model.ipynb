{
 "cells": [
  {
   "cell_type": "code",
   "execution_count": null,
   "metadata": {},
   "outputs": [],
   "source": []
  },
  {
   "cell_type": "markdown",
   "metadata": {},
   "source": [
    "## Code to load model and generate data"
   ]
  },
  {
   "cell_type": "markdown",
   "metadata": {},
   "source": [
    "Model in https://drive.google.com/drive/folders/1GzhaJ6P05U-QzdyXff6J9-Eq2k2asehg?usp=sharing"
   ]
  },
  {
   "cell_type": "code",
   "execution_count": null,
   "metadata": {},
   "outputs": [],
   "source": []
  },
  {
   "cell_type": "code",
   "execution_count": null,
   "metadata": {},
   "outputs": [],
   "source": [
    "from transformers import pipeline\n",
    "from transformers import GPT2Tokenizer, GPT2LMHeadModel\n",
    "\n",
    "# Load fine-tuned model\n",
    "fine_tuned_model = GPT2LMHeadModel.from_pretrained(\"/content/gdrive/My Drive/NLP_Project/test/fine_tuned_GPTs\")\n",
    "fine_tuned_tokenizer = GPT2Tokenizer.from_pretrained(\"/content/gdrive/My Drive/NLP_Project/test/fine_tuned_GPTs\")\n",
    "\n",
    "# Initialize the pipeline for text generation\n",
    "generator = pipeline(\"text-generation\", model=fine_tuned_model, tokenizer=fine_tuned_tokenizer)\n",
    "\n",
    "# Generate text based on a prompt\n",
    "generated_text = generator(\"The future of AI in healthcare is\", max_length=1000, num_return_sequences=1)\n",
    "\n",
    "print(generated_text)"
   ]
  },
  {
   "cell_type": "markdown",
   "metadata": {},
   "source": []
  }
 ],
 "metadata": {
  "language_info": {
   "name": "python"
  }
 },
 "nbformat": 4,
 "nbformat_minor": 2
}
